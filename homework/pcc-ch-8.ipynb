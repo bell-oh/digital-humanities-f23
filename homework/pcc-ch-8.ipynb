{
 "cells": [
  {
   "cell_type": "markdown",
   "id": "616b772f-c2c8-49e8-a2c8-8675de7b6a59",
   "metadata": {},
   "source": [
    "#### Python Crash Course"
   ]
  },
  {
   "cell_type": "markdown",
   "id": "6de8474f-17df-4071-9758-431b8e016597",
   "metadata": {},
   "source": [
    "## Chapter 8"
   ]
  },
  {
   "cell_type": "markdown",
   "id": "51c50747-2587-4cbd-985d-66958ee1b905",
   "metadata": {},
   "source": [
    "### **8.1** Message"
   ]
  },
  {
   "cell_type": "code",
   "execution_count": 1,
   "id": "d157ff9d-6765-46de-95f4-e1cd5c9826fa",
   "metadata": {},
   "outputs": [
    {
     "name": "stdout",
     "output_type": "stream",
     "text": [
      "I am learning about functions.\n"
     ]
    }
   ],
   "source": [
    "def display_message():\n",
    "    print(\"I am learning about functions.\")\n",
    "\n",
    "display_message()\n",
    "    "
   ]
  },
  {
   "cell_type": "markdown",
   "id": "1a7dea42-9d27-49bf-910f-1599ac2eb9a2",
   "metadata": {},
   "source": [
    "### **8.2** Favorite Book"
   ]
  },
  {
   "cell_type": "code",
   "execution_count": 3,
   "id": "8ad9d187-59ff-4574-897f-2d482f8c25b3",
   "metadata": {},
   "outputs": [
    {
     "name": "stdout",
     "output_type": "stream",
     "text": [
      "One of my favorite books is The Hunger Games.\n"
     ]
    }
   ],
   "source": [
    "def favorite_book(title):\n",
    "    print(f\"One of my favorite books is {title}.\")\n",
    "\n",
    "favorite_book(\"The Hunger Games\")"
   ]
  },
  {
   "cell_type": "markdown",
   "id": "c480cda9-d5a3-4cd9-b6dd-c1193a469161",
   "metadata": {},
   "source": [
    "### **8.3** T-Shirt"
   ]
  },
  {
   "cell_type": "code",
   "execution_count": 9,
   "id": "5f0a2442-fd1d-452e-b806-193ed951fd48",
   "metadata": {},
   "outputs": [
    {
     "name": "stdout",
     "output_type": "stream",
     "text": [
      "You are requesting a size large shirt with the following message: This is my shirt\n",
      "You are requesting a size large shirt with the following message: This is my shirt\n"
     ]
    }
   ],
   "source": [
    "def make_shirt(size, message):\n",
    "    print(f\"You are requesting a size {size} shirt with the following message: {message}\")\n",
    "\n",
    "## Positional arguments\n",
    "make_shirt('large', 'This is my shirt')\n",
    "## Keyword arguments\n",
    "make_shirt(message='This is my shirt', size='large')\n"
   ]
  },
  {
   "cell_type": "markdown",
   "id": "d6c53fde-72ae-484d-bf87-8f01995c1510",
   "metadata": {},
   "source": [
    "### **8.5** Cities"
   ]
  },
  {
   "cell_type": "code",
   "execution_count": 13,
   "id": "9bba8a43-e455-4754-bd96-9be815968bb3",
   "metadata": {},
   "outputs": [
    {
     "name": "stdout",
     "output_type": "stream",
     "text": [
      "Boston is a city in the United States of America.\n",
      "New York is a city in the United States of America.\n",
      "Paris is a city in France.\n"
     ]
    }
   ],
   "source": [
    "def describe_city(city, country='the United States of America'):\n",
    "    print(f\"{city.title()} is a city in {country}.\")\n",
    "\n",
    "describe_city('boston')\n",
    "describe_city('new york')\n",
    "describe_city('paris', 'France')\n",
    "\n",
    "\n"
   ]
  },
  {
   "cell_type": "markdown",
   "id": "5de05792-87ee-45d6-b7a5-70350e9a96b0",
   "metadata": {},
   "source": [
    "### **8.6** City Names"
   ]
  },
  {
   "cell_type": "code",
   "execution_count": 15,
   "id": "d162b1c1-d6d8-4b4d-a40a-101900fc82f5",
   "metadata": {},
   "outputs": [
    {
     "name": "stdout",
     "output_type": "stream",
     "text": [
      "Boston, United States Of America\n",
      "Paris, France\n",
      "Madrid, Spain\n"
     ]
    }
   ],
   "source": [
    "def city_country(city, country):\n",
    "    return f\"{city.title()}, {country.title()}\"\n",
    "\n",
    "print(city_country('boston', 'united states of america'))\n",
    "print(city_country('paris', 'france'))\n",
    "print(city_country('madrid', 'spain'))"
   ]
  },
  {
   "cell_type": "markdown",
   "id": "ef41d5ed-1e6a-49e4-8946-8ee6343ce884",
   "metadata": {},
   "source": [
    "### **8.7** Album"
   ]
  },
  {
   "cell_type": "code",
   "execution_count": 41,
   "id": "194fa263-f3b7-42db-abc9-c7d84d5616da",
   "metadata": {},
   "outputs": [
    {
     "name": "stdout",
     "output_type": "stream",
     "text": [
      "{'artist': 'boygenius', 'title': 'the record'}\n",
      "{'artist': 'Noah Kahan', 'title': 'Stick Season'}\n",
      "{'artist': 'Ethel Cain', 'title': \"Preacher's Daughter\"}\n",
      "{'artist': 'Taylor Swift', 'title': 'folklore', 'number of songs': '16'}\n"
     ]
    }
   ],
   "source": [
    "def make_album(artist, title, num_songs=None):\n",
    "    album = {\n",
    "        'artist': artist,\n",
    "        'title': title\n",
    "    }\n",
    "    if num_songs:\n",
    "        album['number of songs'] = num_songs\n",
    "\n",
    "    return album\n",
    "\n",
    "print(make_album('boygenius', 'the record'))\n",
    "print(make_album('Noah Kahan', 'Stick Season'))\n",
    "print(make_album('Ethel Cain', 'Preacher\\'s Daughter'))\n",
    "print(make_album('Taylor Swift', 'folklore', '16'))\n",
    "\n"
   ]
  },
  {
   "cell_type": "code",
   "execution_count": null,
   "id": "ec9ca72d-0fb3-48ff-a649-2d63d1a39a24",
   "metadata": {},
   "outputs": [],
   "source": []
  }
 ],
 "metadata": {
  "kernelspec": {
   "display_name": "Python 3 (ipykernel)",
   "language": "python",
   "name": "python3"
  },
  "language_info": {
   "codemirror_mode": {
    "name": "ipython",
    "version": 3
   },
   "file_extension": ".py",
   "mimetype": "text/x-python",
   "name": "python",
   "nbconvert_exporter": "python",
   "pygments_lexer": "ipython3",
   "version": "3.11.0"
  }
 },
 "nbformat": 4,
 "nbformat_minor": 5
}
