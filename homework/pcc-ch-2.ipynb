{
 "cells": [
  {
   "cell_type": "markdown",
   "id": "e88c5094-3465-41d6-a2fe-bc29a230ed72",
   "metadata": {},
   "source": [
    "#### Python Crash Course\n",
    "## Chapter 2"
   ]
  },
  {
   "cell_type": "code",
   "execution_count": 15,
   "id": "86f30197-1fe7-400b-bda2-52941c698eab",
   "metadata": {},
   "outputs": [],
   "source": [
    "# September 2023"
   ]
  },
  {
   "cell_type": "markdown",
   "id": "671bd0a2-fa36-4b90-bd36-fea2667c91d7",
   "metadata": {},
   "source": [
    "### **2-1**   Simple Message "
   ]
  },
  {
   "cell_type": "code",
   "execution_count": 16,
   "id": "e277665a-fa88-459b-9d46-db51e5fce5cc",
   "metadata": {},
   "outputs": [
    {
     "name": "stdout",
     "output_type": "stream",
     "text": [
      "Hello\n"
     ]
    }
   ],
   "source": [
    "message = \"Hello\"\n",
    "print(message)"
   ]
  },
  {
   "cell_type": "markdown",
   "id": "6655dd39-ed11-4657-bd8c-89c234869734",
   "metadata": {},
   "source": [
    "### **2-2** Simple Messages"
   ]
  },
  {
   "cell_type": "code",
   "execution_count": 17,
   "id": "7de01ac0-754c-43fe-bd1f-e3fcd616c252",
   "metadata": {},
   "outputs": [
    {
     "name": "stdout",
     "output_type": "stream",
     "text": [
      "Hello\n",
      "Goodbye\n"
     ]
    }
   ],
   "source": [
    "message = \"Hello\"\n",
    "print(message)\n",
    "message = \"Goodbye\"\n",
    "print(message)"
   ]
  },
  {
   "cell_type": "markdown",
   "id": "ccc450bc-e967-4879-b339-fbbd010b9b4d",
   "metadata": {},
   "source": [
    "### **2-3** Personal Message"
   ]
  },
  {
   "cell_type": "code",
   "execution_count": 18,
   "id": "4c44369a-96ea-4342-b9a3-16ea9eb5f42c",
   "metadata": {},
   "outputs": [
    {
     "name": "stdout",
     "output_type": "stream",
     "text": [
      "Hi Micah, how are you today?\n"
     ]
    }
   ],
   "source": [
    "person = \"Micah\"\n",
    "print(\"Hi \" + person + \", how are you today?\")"
   ]
  },
  {
   "cell_type": "markdown",
   "id": "c2fa72e9-9c88-41d2-a3d8-288d7726751c",
   "metadata": {},
   "source": [
    "### **2-4** Name Cases"
   ]
  },
  {
   "cell_type": "code",
   "execution_count": 19,
   "id": "4accb807-550f-4169-90e3-b0a23c01bb4d",
   "metadata": {},
   "outputs": [
    {
     "name": "stdout",
     "output_type": "stream",
     "text": [
      "micah\n",
      "MICAH\n",
      "Micah\n"
     ]
    }
   ],
   "source": [
    "person = \"Micah\"\n",
    "print(person.lower())\n",
    "print(person.upper())\n",
    "print(person.title())"
   ]
  },
  {
   "cell_type": "markdown",
   "id": "37c6c60f-dc6d-4d90-b6bc-cd2b4289d7ff",
   "metadata": {},
   "source": [
    "### **2-5** Famous Quote"
   ]
  },
  {
   "cell_type": "code",
   "execution_count": 20,
   "id": "f4263226-c487-4cfe-8adc-253d4f88715f",
   "metadata": {},
   "outputs": [
    {
     "name": "stdout",
     "output_type": "stream",
     "text": [
      "Yogi Berra once said, 'It ain't over 'til it's over.'\n"
     ]
    }
   ],
   "source": [
    "print(\"Yogi Berra once said, 'It ain't over 'til it's over.'\")"
   ]
  },
  {
   "cell_type": "markdown",
   "id": "83095d19-5cc3-4a39-8595-f0ef3384d867",
   "metadata": {},
   "source": [
    "### **2-6** Famous Quote 2"
   ]
  },
  {
   "cell_type": "code",
   "execution_count": 21,
   "id": "6aef8917-e20f-486a-b74a-d1f132cadace",
   "metadata": {},
   "outputs": [
    {
     "name": "stdout",
     "output_type": "stream",
     "text": [
      "Yogi Berra once said, 'It ain't over 'til it's over.'\n"
     ]
    }
   ],
   "source": [
    "famous_person = \"Yogi Berra\"\n",
    "message = famous_person + \" once said, 'It ain't over 'til it's over.'\"\n",
    "print(message)"
   ]
  },
  {
   "cell_type": "markdown",
   "id": "5a7ab10c-089e-44a5-9566-9c2d08b37803",
   "metadata": {},
   "source": [
    "### **2-7** Stripping Names"
   ]
  },
  {
   "cell_type": "code",
   "execution_count": 22,
   "id": "98c2f398-63bb-4bf0-b4f0-e2cbbfccc30b",
   "metadata": {},
   "outputs": [
    {
     "name": "stdout",
     "output_type": "stream",
     "text": [
      "\n",
      "\t Micah \n",
      "\n",
      "Micah \n",
      "\n",
      "\n",
      "\t Micah\n",
      "Micah\n"
     ]
    }
   ],
   "source": [
    "person = \"\\n\\t Micah \\n\"\n",
    "print(person)\n",
    "print(person.lstrip())\n",
    "print(person.rstrip())\n",
    "print(person.strip())"
   ]
  },
  {
   "cell_type": "markdown",
   "id": "f1991d71-21ac-49b9-917f-0ab63cb7c67d",
   "metadata": {},
   "source": [
    "### **2-10** Adding Comments"
   ]
  },
  {
   "cell_type": "code",
   "execution_count": 24,
   "id": "3c0a65f4-c4ec-4574-90c6-58ac7a2a861f",
   "metadata": {},
   "outputs": [],
   "source": [
    "# This is a comment. There is another comment at the top of this page!"
   ]
  },
  {
   "cell_type": "code",
   "execution_count": null,
   "id": "c4ba5219-e90c-48b5-bc85-026df4c0bf42",
   "metadata": {},
   "outputs": [],
   "source": []
  }
 ],
 "metadata": {
  "kernelspec": {
   "display_name": "Python 3 (ipykernel)",
   "language": "python",
   "name": "python3"
  },
  "language_info": {
   "codemirror_mode": {
    "name": "ipython",
    "version": 3
   },
   "file_extension": ".py",
   "mimetype": "text/x-python",
   "name": "python",
   "nbconvert_exporter": "python",
   "pygments_lexer": "ipython3",
   "version": "3.11.0"
  }
 },
 "nbformat": 4,
 "nbformat_minor": 5
}
