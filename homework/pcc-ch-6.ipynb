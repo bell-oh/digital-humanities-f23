{
 "cells": [
  {
   "cell_type": "markdown",
   "id": "616b772f-c2c8-49e8-a2c8-8675de7b6a59",
   "metadata": {},
   "source": [
    "#### Python Crash Course"
   ]
  },
  {
   "cell_type": "markdown",
   "id": "6de8474f-17df-4071-9758-431b8e016597",
   "metadata": {},
   "source": [
    "## Chapter 6"
   ]
  },
  {
   "cell_type": "markdown",
   "id": "51c50747-2587-4cbd-985d-66958ee1b905",
   "metadata": {},
   "source": [
    "### **6.1** Person"
   ]
  },
  {
   "cell_type": "code",
   "execution_count": 78,
   "id": "d157ff9d-6765-46de-95f4-e1cd5c9826fa",
   "metadata": {},
   "outputs": [
    {
     "name": "stdout",
     "output_type": "stream",
     "text": [
      "Key: first_name, Value: Bloopy\n",
      "Key: last_name, Value: McBlooper\n",
      "Key: city, Value: Bloopville\n",
      "Key: age, Value: 100\n"
     ]
    }
   ],
   "source": [
    "person = {\n",
    "    'first_name': 'Bloopy',\n",
    "    'last_name': 'McBlooper',\n",
    "    'city': 'Bloopville',\n",
    "    'age': '100'\n",
    "}\n",
    "\n",
    "for key, value in person.items():\n",
    "    print(f\"Key: {key}\" + f\", Value: {value}\")"
   ]
  },
  {
   "cell_type": "markdown",
   "id": "1a7dea42-9d27-49bf-910f-1599ac2eb9a2",
   "metadata": {},
   "source": [
    "### **6.2** Favorite Numbers"
   ]
  },
  {
   "cell_type": "code",
   "execution_count": 69,
   "id": "8ad9d187-59ff-4574-897f-2d482f8c25b3",
   "metadata": {},
   "outputs": [
    {
     "name": "stdout",
     "output_type": "stream",
     "text": [
      "Egbert's favorite number is 5\n",
      "Winston's favorite number is 2\n",
      "Patricia's favorite number is 200\n",
      "Gertrude's favorite number is 21\n",
      "Omar's favorite number is 9\n"
     ]
    }
   ],
   "source": [
    "favorite_numbers = {\n",
    "    'Egbert': 5,\n",
    "    'Winston': 2,\n",
    "    'Patricia': 200,\n",
    "    'Gertrude': 21,\n",
    "    'Omar': 9\n",
    "}\n",
    "\n",
    "for key, value in favorite_numbers.items():\n",
    "    print(f\"{key}'s favorite number is {value}\")\n"
   ]
  },
  {
   "cell_type": "markdown",
   "id": "c480cda9-d5a3-4cd9-b6dd-c1193a469161",
   "metadata": {},
   "source": [
    "### **6.3** Glossary"
   ]
  },
  {
   "cell_type": "code",
   "execution_count": 70,
   "id": "5f0a2442-fd1d-452e-b806-193ed951fd48",
   "metadata": {},
   "outputs": [
    {
     "name": "stdout",
     "output_type": "stream",
     "text": [
      "loop: A way of iterating through a list of data.\n",
      "list: A way to store the same type of data together.\n",
      "variable: An object, usually of a specific type, that holds a value that can be changed.\n",
      "dictionary: A list of key-value pairs.\n",
      "conditional: A way to control program flow.\n"
     ]
    }
   ],
   "source": [
    "glossary = {\n",
    "    'loop': 'A way of iterating through a list of data.',\n",
    "    'list': 'A way to store the same type of data together.',\n",
    "    'variable': 'An object, usually of a specific type, that holds a value that can be changed.',\n",
    "    'dictionary': 'A list of key-value pairs.',\n",
    "    'conditional': 'A way to control program flow.'\n",
    "}\n",
    "\n",
    "print(\"loop: \" + glossary['loop'])\n",
    "print(\"list: \" + glossary['list']) \n",
    "print(\"variable: \" + glossary['variable']) \n",
    "print(\"dictionary: \" + glossary['dictionary']) \n",
    "print(\"conditional: \" + glossary['conditional']) "
   ]
  },
  {
   "cell_type": "markdown",
   "id": "d6c53fde-72ae-484d-bf87-8f01995c1510",
   "metadata": {},
   "source": [
    "### **6.4** Glossary 2"
   ]
  },
  {
   "cell_type": "code",
   "execution_count": 71,
   "id": "9bba8a43-e455-4754-bd96-9be815968bb3",
   "metadata": {},
   "outputs": [
    {
     "name": "stdout",
     "output_type": "stream",
     "text": [
      "loop: A way of iterating through a list of data.\n",
      "list: A way to store the same type of data together.\n",
      "variable: An object, usually of a specific type, that holds a value that can be changed.\n",
      "dictionary: A list of key-value pairs.\n",
      "conditional: A way to control program flow.\n"
     ]
    }
   ],
   "source": [
    "for key, value in glossary.items():\n",
    "    print(f\"{key}: {value}\")"
   ]
  },
  {
   "cell_type": "code",
   "execution_count": 72,
   "id": "7f27f527-8b6b-4492-8a0d-3a929b45d9da",
   "metadata": {},
   "outputs": [
    {
     "name": "stdout",
     "output_type": "stream",
     "text": [
      "loop: A way of iterating through a list of data.\n",
      "list: A way to store the same type of data together.\n",
      "variable: An object, usually of a specific type, that holds a value that can be changed.\n",
      "dictionary: A list of key-value pairs.\n",
      "conditional: A way to control program flow.\n",
      "set: A list that does not contain duplicates.\n",
      "function: A named and defined reusable piece of code that accomplishes a specific goal.\n",
      "boolean: A type of variable that has a value of either true or false\n",
      "string: A type of variable that may contain characters, words, numbers.\n",
      "terminal: The interface through which programmers communicate with their computers.\n"
     ]
    }
   ],
   "source": [
    "glossary['set'] = 'A list that does not contain duplicates.'\n",
    "glossary['function'] = 'A named and defined reusable piece of code that accomplishes a specific goal.'\n",
    "glossary['boolean'] = 'A type of variable that has a value of either true or false'\n",
    "glossary['string'] = 'A type of variable that may contain characters, words, numbers.'\n",
    "glossary['terminal'] = 'The interface through which programmers communicate with their computers.'\n",
    "\n",
    "for key, value in glossary.items():\n",
    "    print(f\"{key}: {value}\")"
   ]
  },
  {
   "cell_type": "markdown",
   "id": "5de05792-87ee-45d6-b7a5-70350e9a96b0",
   "metadata": {},
   "source": [
    "### **6.5** Rivers"
   ]
  },
  {
   "cell_type": "code",
   "execution_count": 73,
   "id": "d162b1c1-d6d8-4b4d-a40a-101900fc82f5",
   "metadata": {},
   "outputs": [
    {
     "name": "stdout",
     "output_type": "stream",
     "text": [
      "The Nile runs through Egypt.\n",
      "The Seine runs through France.\n",
      "The Yangtze runs through China.\n"
     ]
    }
   ],
   "source": [
    "rivers = {\n",
    "    'nile': 'egypt',\n",
    "    'seine': 'france',\n",
    "    'yangtze': 'china'\n",
    "}\n",
    "\n",
    "for key, value in rivers.items():\n",
    "    print(f\"The {key.title()} runs through {value.title()}.\")   "
   ]
  },
  {
   "cell_type": "code",
   "execution_count": 74,
   "id": "871c1602-4efe-443d-8c95-99f10f135ab8",
   "metadata": {},
   "outputs": [
    {
     "name": "stdout",
     "output_type": "stream",
     "text": [
      "Rivers:\n",
      "Nile\n",
      "Seine\n",
      "Yangtze\n"
     ]
    }
   ],
   "source": [
    "print(\"Rivers:\")\n",
    "for river in rivers.keys():\n",
    "    print(river.title())"
   ]
  },
  {
   "cell_type": "code",
   "execution_count": 75,
   "id": "9e5ca57a-5b1d-4973-87b3-12c54bf48d65",
   "metadata": {},
   "outputs": [
    {
     "name": "stdout",
     "output_type": "stream",
     "text": [
      "Countries:\n",
      "Egypt\n",
      "France\n",
      "China\n"
     ]
    }
   ],
   "source": [
    "print(\"Countries:\")\n",
    "for country in rivers.values():\n",
    "    print(country.title())"
   ]
  },
  {
   "cell_type": "markdown",
   "id": "ef41d5ed-1e6a-49e4-8946-8ee6343ce884",
   "metadata": {},
   "source": [
    "### **6.7** People"
   ]
  },
  {
   "cell_type": "code",
   "execution_count": 79,
   "id": "194fa263-f3b7-42db-abc9-c7d84d5616da",
   "metadata": {},
   "outputs": [
    {
     "name": "stdout",
     "output_type": "stream",
     "text": [
      "Bloopy McBlooper\n",
      "City: Bloopville\n",
      "Age: 100\n",
      "Sticky McStickers\n",
      "City: Stickyville\n",
      "Age: 51\n",
      "Gooble McGoob\n",
      "City: Goobville\n",
      "Age: 12\n"
     ]
    }
   ],
   "source": [
    "person_2 = {\n",
    "    'first_name': 'Sticky',\n",
    "    'last_name': 'McStickers',\n",
    "    'city': 'Stickyville',\n",
    "    'age': '51'\n",
    "}\n",
    "\n",
    "person_3 = {\n",
    "    'first_name': 'Gooble',\n",
    "    'last_name': 'McGoob',\n",
    "    'city': 'Goobville',\n",
    "    'age': '12'\n",
    "}\n",
    "\n",
    "people = [person, person_2, person_3]\n",
    "\n",
    "for person in people:\n",
    "    print(f\"{person['first_name']} {person['last_name']}\")\n",
    "    print(f\"City: {person['city']}\")\n",
    "    print(f\"Age: {person['age']}\")"
   ]
  },
  {
   "cell_type": "markdown",
   "id": "cfbaa69c-cf77-4592-94b7-895c90211317",
   "metadata": {},
   "source": [
    "### **6.8** Pets"
   ]
  },
  {
   "cell_type": "code",
   "execution_count": 88,
   "id": "56ad9218-e5f2-4344-9ca0-61accfa0636e",
   "metadata": {},
   "outputs": [
    {
     "name": "stdout",
     "output_type": "stream",
     "text": [
      "Cali\n",
      "Owner: Maya\n",
      "Type: Dog\n",
      "Ella\n",
      "Owner: Shelley\n",
      "Type: Dog\n",
      "Chester\n",
      "Owner: Liz\n",
      "Type: Dog\n"
     ]
    }
   ],
   "source": [
    "pet_1 = {\n",
    "    'name': 'cali',\n",
    "    'owner': 'maya',\n",
    "    'type': 'dog'\n",
    "}\n",
    "\n",
    "pet_2 = {\n",
    "    'name': 'ella',\n",
    "    'owner': 'shelley',\n",
    "    'type': 'dog'\n",
    "}\n",
    "\n",
    "pet_3 = {\n",
    "    'name': 'chester',\n",
    "    'owner': 'liz',\n",
    "    'type': 'dog'\n",
    "}\n",
    "\n",
    "pets = [pet_1, pet_2, pet_3]\n",
    "\n",
    "for pet in pets:\n",
    "    print(pet['name'].title())\n",
    "    print(\"Owner: \" + pet['owner'].title())\n",
    "    print(\"Type: \" + pet['type'].title())"
   ]
  },
  {
   "cell_type": "markdown",
   "id": "cacb7a12-2e28-48c0-9314-6ccdc7f4e7f4",
   "metadata": {},
   "source": [
    "### **6.9** Favorite Places"
   ]
  },
  {
   "cell_type": "code",
   "execution_count": 95,
   "id": "95704a5c-e9a2-431b-bdb8-ea03398ac414",
   "metadata": {},
   "outputs": [
    {
     "name": "stdout",
     "output_type": "stream",
     "text": [
      "Edward's favorite places: \n",
      "Greece\n",
      "Spain\n",
      "Italy\n",
      "Kathy's favorite places: \n",
      "Mexico\n",
      "California\n",
      "Cuba\n",
      "Maria's favorite places: \n",
      "Louisiana\n",
      "Chicago\n",
      "New York\n"
     ]
    }
   ],
   "source": [
    "favorite_places = {\n",
    "    'edward': ['greece', 'spain', 'italy'],\n",
    "    'kathy': ['mexico', 'california', 'cuba'],\n",
    "    'maria': ['louisiana', 'chicago', 'new york']\n",
    "}\n",
    "\n",
    "for key, value in favorite_places.items():\n",
    "    print(f\"{key.title()}'s favorite places: \")\n",
    "    for place in value:\n",
    "        print(place.title())"
   ]
  },
  {
   "cell_type": "markdown",
   "id": "a56b919c-0425-4f37-a725-52c31d448154",
   "metadata": {},
   "source": [
    "### **6.11** Cities"
   ]
  },
  {
   "cell_type": "code",
   "execution_count": 99,
   "id": "35f407bf-3b17-4484-aa1b-e8b5eb2b365b",
   "metadata": {},
   "outputs": [],
   "source": [
    "cities = {\n",
    "    'boston': {\n",
    "        'country': 'united states of america',\n",
    "        'population': '654,776',\n",
    "        'fact': 'the largest city in Massachusetts'\n",
    "    },\n",
    "    'columbus': {\n",
    "        'country': 'united states of america',\n",
    "        'population': '906,528',\n",
    "        'fact': 'the capital of Ohio'\n",
    "    },\n",
    "    'paris': {\n",
    "        'country': 'france',\n",
    "        'population': '2,161,000',\n",
    "        'fact': 'known as the city of lights',\n",
    "    }\n",
    "}\n",
    "        "
   ]
  },
  {
   "cell_type": "code",
   "execution_count": 111,
   "id": "9b46258f-0d4c-41e3-9c7a-978254e8b8a5",
   "metadata": {},
   "outputs": [
    {
     "name": "stdout",
     "output_type": "stream",
     "text": [
      "Boston\n",
      "Country\n",
      "Population\n",
      "Fact\n",
      "Owner: Liz\n",
      "Type: Dog\n",
      "Columbus\n",
      "Country\n",
      "Population\n",
      "Fact\n",
      "Owner: Liz\n",
      "Type: Dog\n",
      "Paris\n",
      "Country\n",
      "Population\n",
      "Fact\n",
      "Owner: Liz\n",
      "Type: Dog\n"
     ]
    }
   ],
   "source": [
    "for key, value in cities.items():\n",
    "    print(f\"{key.title()}\")\n",
    "    for key, value in value.items():\n",
    "        print(f\"{key.title()}: \")\n",
    "    print(\"Owner: \" + pet['owner'].title())\n",
    "    print(\"Type: \" + pet['type'].title())"
   ]
  },
  {
   "cell_type": "code",
   "execution_count": null,
   "id": "bd705744-58a9-4e6e-9008-f3e7d7893ea6",
   "metadata": {},
   "outputs": [],
   "source": []
  }
 ],
 "metadata": {
  "kernelspec": {
   "display_name": "Python 3 (ipykernel)",
   "language": "python",
   "name": "python3"
  },
  "language_info": {
   "codemirror_mode": {
    "name": "ipython",
    "version": 3
   },
   "file_extension": ".py",
   "mimetype": "text/x-python",
   "name": "python",
   "nbconvert_exporter": "python",
   "pygments_lexer": "ipython3",
   "version": "3.11.0"
  }
 },
 "nbformat": 4,
 "nbformat_minor": 5
}
