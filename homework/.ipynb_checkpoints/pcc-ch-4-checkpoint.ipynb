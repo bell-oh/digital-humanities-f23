{
 "cells": [
  {
   "cell_type": "markdown",
   "id": "c1379a83-8c42-42dd-9773-b7937db96f0b",
   "metadata": {},
   "source": [
    "#### Python Crash Course"
   ]
  },
  {
   "cell_type": "markdown",
   "id": "cde92df8-3885-49be-bd30-59cf617bcb4a",
   "metadata": {},
   "source": [
    "## Chapter 4"
   ]
  },
  {
   "cell_type": "markdown",
   "id": "49ab9ab3-ec57-4bff-9cea-3039cb75245e",
   "metadata": {},
   "source": [
    "### **4.1** Pizzas"
   ]
  },
  {
   "cell_type": "code",
   "execution_count": 1,
   "id": "101baf5d-4664-491c-a9a9-9093527a4c2c",
   "metadata": {},
   "outputs": [
    {
     "name": "stdout",
     "output_type": "stream",
     "text": [
      "cheese\n",
      "pepperoni\n",
      "veggie\n"
     ]
    }
   ],
   "source": [
    "pizzas = [\"cheese\", \"pepperoni\", \"veggie\"]\n",
    "for pizza in pizzas:\n",
    "    print(pizza)"
   ]
  },
  {
   "cell_type": "code",
   "execution_count": 3,
   "id": "2ff28ce8-d301-44ed-a124-a3e2a2f818ee",
   "metadata": {},
   "outputs": [
    {
     "name": "stdout",
     "output_type": "stream",
     "text": [
      "I like cheese pizza.\n",
      "I like pepperoni pizza.\n",
      "I like veggie pizza.\n",
      "Wow, I love pizza!\n"
     ]
    }
   ],
   "source": [
    "for pizza in pizzas:\n",
    "    print(\"I like \" + pizza + \" pizza.\")\n",
    "print(\"Wow, I love pizza!\")"
   ]
  },
  {
   "cell_type": "markdown",
   "id": "aade5789-18c9-4d74-ae5b-308343904579",
   "metadata": {},
   "source": [
    "### **4.2** Animals"
   ]
  },
  {
   "cell_type": "code",
   "execution_count": 5,
   "id": "684b2ca2-7ac1-43bc-b8d6-a66196ff47ca",
   "metadata": {},
   "outputs": [
    {
     "name": "stdout",
     "output_type": "stream",
     "text": [
      "mouse\n",
      "rat\n",
      "gerbil\n"
     ]
    }
   ],
   "source": [
    "animals = [\"mouse\", \"rat\", \"gerbil\"]\n",
    "for animal in animals:\n",
    "    print(animal)"
   ]
  },
  {
   "cell_type": "code",
   "execution_count": 6,
   "id": "fe23d827-3e05-44c4-bb31-1e736f857817",
   "metadata": {},
   "outputs": [
    {
     "name": "stdout",
     "output_type": "stream",
     "text": [
      "A mouse is a great pet.\n",
      "A rat is a great pet.\n",
      "A gerbil is a great pet.\n",
      "These animals are rodents.\n"
     ]
    }
   ],
   "source": [
    "for animal in animals:\n",
    "    print(\"A \" + animal + \" is a great pet.\")\n",
    "print(\"These animals are rodents.\")"
   ]
  },
  {
   "cell_type": "markdown",
   "id": "af989f6b-9f46-40f1-a51a-a1019b5bbedf",
   "metadata": {},
   "source": [
    "### **4.3** Counting to Twenty"
   ]
  },
  {
   "cell_type": "code",
   "execution_count": 8,
   "id": "438002d1-c57a-4c95-abbd-dda7303b2d88",
   "metadata": {},
   "outputs": [
    {
     "name": "stdout",
     "output_type": "stream",
     "text": [
      "1\n",
      "2\n",
      "3\n",
      "4\n",
      "5\n",
      "6\n",
      "7\n",
      "8\n",
      "9\n",
      "10\n",
      "11\n",
      "12\n",
      "13\n",
      "14\n",
      "15\n",
      "16\n",
      "17\n",
      "18\n",
      "19\n",
      "20\n"
     ]
    }
   ],
   "source": [
    "for number in range(1, 21):\n",
    "    print(number)"
   ]
  },
  {
   "cell_type": "markdown",
   "id": "de1cd048-f4fc-4992-8dc3-7b2824f3e3d4",
   "metadata": {},
   "source": [
    "### **4.6** Odd Numbers"
   ]
  },
  {
   "cell_type": "code",
   "execution_count": 9,
   "id": "059643e5-9525-4df6-9ad6-77952525b917",
   "metadata": {
    "scrolled": true
   },
   "outputs": [
    {
     "name": "stdout",
     "output_type": "stream",
     "text": [
      "1\n",
      "3\n",
      "5\n",
      "7\n",
      "9\n",
      "11\n",
      "13\n",
      "15\n",
      "17\n",
      "19\n"
     ]
    }
   ],
   "source": [
    "for number in range(1, 21, 2):\n",
    "    print(number)"
   ]
  },
  {
   "cell_type": "markdown",
   "id": "93589ddb-4bd9-47df-8a55-b05da1b7384e",
   "metadata": {},
   "source": [
    "### **4.10** Slices"
   ]
  },
  {
   "cell_type": "code",
   "execution_count": 13,
   "id": "b80281b9-d174-46d5-b7c0-853caccfc6cf",
   "metadata": {},
   "outputs": [
    {
     "name": "stdout",
     "output_type": "stream",
     "text": [
      "The first three items in the list are: \n",
      "red\n",
      "blue\n",
      "green\n",
      "Three items from the middle of the list are: \n",
      "green\n",
      "orange\n",
      "yellow\n",
      "The last three items in the list are: \n",
      "orange\n",
      "yellow\n",
      "purple\n"
     ]
    }
   ],
   "source": [
    "colors = [\"red\", \"blue\", \"green\", \"orange\", \"yellow\", \"purple\"]\n",
    "print(\"The first three items in the list are: \")\n",
    "for color in colors[:3]:\n",
    "    print(color)\n",
    "print(\"Three items from the middle of the list are: \")\n",
    "for color in colors[2:5]:\n",
    "    print(color)\n",
    "print(\"The last three items in the list are: \")\n",
    "for color in colors[-3:]:\n",
    "    print(color)\n"
   ]
  },
  {
   "cell_type": "markdown",
   "id": "3b547700-8892-47ab-b113-8470f57ff02f",
   "metadata": {},
   "source": [
    "### **4.11** My Pizzas, Your Pizzas"
   ]
  },
  {
   "cell_type": "code",
   "execution_count": 16,
   "id": "bfde65f3-8d52-4c04-9905-f40a96ae69ae",
   "metadata": {},
   "outputs": [
    {
     "name": "stdout",
     "output_type": "stream",
     "text": [
      "My favorite pizzas are: \n",
      "cheese\n",
      "pepperoni\n",
      "veggie\n",
      "sausage\n",
      "My friend's favorite pizzas are: \n",
      "cheese\n",
      "pepperoni\n",
      "veggie\n",
      "margherita\n"
     ]
    }
   ],
   "source": [
    "pizzas = [\"cheese\", \"pepperoni\", \"veggie\"]\n",
    "friend_pizzas = pizzas[:]\n",
    "pizzas.append(\"sausage\")\n",
    "friend_pizzas.append(\"margherita\")\n",
    "print(\"My favorite pizzas are: \")\n",
    "for pizza in pizzas:\n",
    "    print(pizza)\n",
    "print(\"My friend's favorite pizzas are: \")\n",
    "for friend_pizza in friend_pizzas:\n",
    "    print(friend_pizza)"
   ]
  },
  {
   "cell_type": "code",
   "execution_count": null,
   "id": "bf31b8b3-1d86-4744-bb93-b61ef5aaf98d",
   "metadata": {},
   "outputs": [],
   "source": []
  }
 ],
 "metadata": {
  "kernelspec": {
   "display_name": "Python 3 (ipykernel)",
   "language": "python",
   "name": "python3"
  },
  "language_info": {
   "codemirror_mode": {
    "name": "ipython",
    "version": 3
   },
   "file_extension": ".py",
   "mimetype": "text/x-python",
   "name": "python",
   "nbconvert_exporter": "python",
   "pygments_lexer": "ipython3",
   "version": "3.11.0"
  }
 },
 "nbformat": 4,
 "nbformat_minor": 5
}
