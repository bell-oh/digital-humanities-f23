{
 "cells": [
  {
   "cell_type": "markdown",
   "id": "f5de2621-70ac-489c-9958-484576272c3c",
   "metadata": {},
   "source": [
    "#### Python Crash Course"
   ]
  },
  {
   "cell_type": "markdown",
   "id": "c1616047-ce57-422b-868b-7f70ff27bac7",
   "metadata": {},
   "source": [
    "## Chapter 5"
   ]
  },
  {
   "cell_type": "markdown",
   "id": "5693d070-3ae3-4fe3-b44b-5c7e85dcb9bf",
   "metadata": {},
   "source": [
    "### **5.1** Conditional Tests"
   ]
  },
  {
   "cell_type": "code",
   "execution_count": 14,
   "id": "65dd4fe3-d43b-4703-bd2f-c0479d05de86",
   "metadata": {},
   "outputs": [
    {
     "name": "stdout",
     "output_type": "stream",
     "text": [
      "Is bird == 'eagle'? I predict False.\n",
      "False\n",
      "Is bird == 'falcon'? I predict True.\n",
      "True\n",
      "Is 10 == 12? I predict False.\n",
      "False\n",
      "Is 5 + 1 == 6? I predict True.\n",
      "True\n",
      "Is bird != 'falcon'? I predict False.\n",
      "False\n",
      "Is bird != 'robin'? I predict True.\n",
      "True\n",
      "Is 5 * 1 == 6? I predict False.\n",
      "False\n",
      "Is 101 == 101? I predict True.\n",
      "True\n",
      "Is type(bird) != type(fish)? I predict False.\n",
      "False\n",
      "Is bird == bird? I predict True.\n",
      "True\n"
     ]
    }
   ],
   "source": [
    "bird = 'falcon'\n",
    "\n",
    "print(\"Is bird == 'eagle'? I predict False.\")\n",
    "print(bird == 'eagle')\n",
    "\n",
    "print(\"Is bird == 'falcon'? I predict True.\")\n",
    "print(bird == 'falcon')\n",
    "\n",
    "print(\"Is 10 == 12? I predict False.\")\n",
    "print(10 == 12)\n",
    "\n",
    "print(\"Is 5 + 1 == 6? I predict True.\")\n",
    "print(5 + 1 == 6)\n",
    "\n",
    "print(\"Is bird != 'falcon'? I predict False.\")\n",
    "print(bird != 'falcon')\n",
    "\n",
    "print(\"Is bird != 'robin'? I predict True.\")\n",
    "print(bird != 'robin')\n",
    "\n",
    "print(\"Is 5 * 1 == 6? I predict False.\")\n",
    "print(5 * 1 == 6)\n",
    "\n",
    "print(\"Is 101 == 101? I predict True.\")\n",
    "print(101 == 101)\n",
    "\n",
    "fish = 'salmon'\n",
    "\n",
    "print(\"Is type(bird) != type(fish)? I predict False.\")\n",
    "print(type(bird) != type(fish))\n",
    "\n",
    "print(\"Is bird == bird? I predict True.\")\n",
    "print(bird == bird)"
   ]
  },
  {
   "cell_type": "markdown",
   "id": "f3c12e38-2d5c-4a71-9b3d-ae0adfa893d7",
   "metadata": {},
   "source": [
    "### **5.2** More Conditional Tests"
   ]
  },
  {
   "cell_type": "code",
   "execution_count": 27,
   "id": "759738d1-3493-4411-9a66-dda1dd7bfdaf",
   "metadata": {},
   "outputs": [
    {
     "name": "stdout",
     "output_type": "stream",
     "text": [
      "Is shape == 'triangle'? I predict True.\n",
      "True\n",
      "Is shape == 'square'? I predict False.\n",
      "False\n",
      "Is color.lower() == 'red'? I predict True.\n",
      "True\n",
      "Is color.lower() == color? I predict False.\n",
      "False\n",
      "Is 123 + 2 < 130? I predict True.\n",
      "True\n",
      "Is 5 * 3 > 10? I predict False.\n",
      "False\n",
      "Is 4 < 5 and 3 < 5? I predict True.\n",
      "True\n",
      "Is 4 < 5 and 5 < 5? I predict False.\n",
      "False\n",
      "Is 4 < 5 or 5 < 5? I predict True.\n",
      "True\n",
      "Is 4 > 5 or 5 > 5? I predict False.\n",
      "False\n",
      "Is 'red' in colors? I predict True.\n",
      "True\n",
      "Is 'orange' in colors? I predict False.\n",
      "False\n",
      "Is 'purple' not in colors? I predict True.\n",
      "True\n",
      "Is 'blue' not in colors? I predict False.\n",
      "False\n"
     ]
    }
   ],
   "source": [
    "shape = 'triangle'\n",
    "\n",
    "print(\"Is shape == 'triangle'? I predict True.\")\n",
    "print(shape == 'triangle')\n",
    "print(\"Is shape == 'square'? I predict False.\")\n",
    "print(shape == 'square')\n",
    "\n",
    "color = 'RED'\n",
    "\n",
    "print(\"Is color.lower() == 'red'? I predict True.\")\n",
    "print(color.lower() == 'red')\n",
    "print(\"Is color.lower() == color? I predict False.\")\n",
    "print(color.lower() == color)\n",
    "\n",
    "print(\"Is 123 + 2 < 130? I predict True.\")\n",
    "print(123 + 2 < 130)\n",
    "print(\"Is 5 * 3 > 10? I predict False.\")\n",
    "print(5 * 3 > 20)\n",
    "\n",
    "print(\"Is 4 < 5 and 3 < 5? I predict True.\")\n",
    "print(4 < 5 and 3 < 5)\n",
    "print(\"Is 4 < 5 and 5 < 5? I predict False.\")\n",
    "print(4 < 5 and 5 < 5)\n",
    "print(\"Is 4 < 5 or 5 < 5? I predict True.\")\n",
    "print(4 < 5 or 5 < 5)\n",
    "print(\"Is 4 > 5 or 5 > 5? I predict False.\")\n",
    "print(4 > 5 or 5 > 5)\n",
    "\n",
    "colors = ['red', 'yellow', 'blue']\n",
    "print(\"Is 'red' in colors? I predict True.\")\n",
    "print('red' in colors)\n",
    "print(\"Is 'orange' in colors? I predict False.\")\n",
    "print('orange' in colors)\n",
    "print(\"Is 'purple' not in colors? I predict True.\")\n",
    "print('purple' not in colors)\n",
    "print(\"Is 'blue' not in colors? I predict False.\")\n",
    "print('blue' not in colors)"
   ]
  },
  {
   "cell_type": "markdown",
   "id": "a95fe9b4-fa8e-40b4-a094-f01451a56e03",
   "metadata": {},
   "source": [
    "### **5.6** Stages of Life"
   ]
  },
  {
   "cell_type": "code",
   "execution_count": 30,
   "id": "cba7cc7a-d9e8-49e7-964b-a005b95e0ed7",
   "metadata": {},
   "outputs": [
    {
     "name": "stdout",
     "output_type": "stream",
     "text": [
      "You are an adult!\n"
     ]
    }
   ],
   "source": [
    "age = 21\n",
    "\n",
    "if age < 2:\n",
    "    print(\"You are a baby!\")\n",
    "elif age >= 2 and age < 4:\n",
    "    print(\"You are a toddler!\")\n",
    "elif age >= 4 and age < 13:\n",
    "    print(\"You are a kid!\")\n",
    "elif age >= 13 and age < 20:\n",
    "    print (\"You are a teenager!\")\n",
    "elif age >= 20 and age < 65:\n",
    "    print(\"You are an adult!\")\n",
    "else: \n",
    "    print(\"You are an elder!\")"
   ]
  },
  {
   "cell_type": "markdown",
   "id": "3e791ca0-f85c-4d7f-998e-34e01d4f179a",
   "metadata": {},
   "source": [
    "### **5.7** Favorite Fruits"
   ]
  },
  {
   "cell_type": "code",
   "execution_count": 33,
   "id": "bcfa8902-2971-432c-bb3b-a9b1a85effd7",
   "metadata": {},
   "outputs": [
    {
     "name": "stdout",
     "output_type": "stream",
     "text": [
      "You love strawberries!\n",
      "You love apples!\n",
      "You love pears!\n"
     ]
    }
   ],
   "source": [
    "favorite_fruits = ['strawberry', 'apple', 'pear']\n",
    "if 'banana' in favorite_fruits:\n",
    "    print(\"You love bananas!\")\n",
    "if 'strawberry' in favorite_fruits:\n",
    "    print(\"You love strawberries!\")\n",
    "if 'apple' in favorite_fruits:\n",
    "    print(\"You love apples!\")\n",
    "if 'mango' in favorite_fruits:\n",
    "    print(\"You love mangos!\")\n",
    "if 'pear' in favorite_fruits:\n",
    "    print(\"You love pears!\")"
   ]
  },
  {
   "cell_type": "markdown",
   "id": "b0ed9017-19da-4edd-a403-f3757028c5f3",
   "metadata": {},
   "source": [
    "### **5.8** Hello Admin"
   ]
  },
  {
   "cell_type": "code",
   "execution_count": 36,
   "id": "f82ba0f4-456e-41df-b970-662aeb48597b",
   "metadata": {},
   "outputs": [
    {
     "name": "stdout",
     "output_type": "stream",
     "text": [
      "Hello admin, would you like to see a status report?\n",
      "Hello guest, thank you for logging in again.\n",
      "Hello gerry, thank you for logging in again.\n",
      "Hello myla, thank you for logging in again.\n",
      "Hello carol, thank you for logging in again.\n"
     ]
    }
   ],
   "source": [
    "users = ['admin', 'guest', 'gerry', 'myla', 'carol']\n",
    "\n",
    "for user in users:\n",
    "    if user == 'admin':\n",
    "        print(\"Hello admin, would you like to see a status report?\")\n",
    "    else:\n",
    "        print(\"Hello \" + user + \", thank you for logging in again.\")\n",
    "\n",
    "    \n",
    "\n"
   ]
  },
  {
   "cell_type": "markdown",
   "id": "33d3ee81-56d4-4286-9af7-d2b3d7eb3a70",
   "metadata": {},
   "source": [
    "### **5.9** No Users"
   ]
  },
  {
   "cell_type": "code",
   "execution_count": 37,
   "id": "f2b2dd5c-f3c2-4bb0-ade7-ba19f5f2277b",
   "metadata": {},
   "outputs": [
    {
     "name": "stdout",
     "output_type": "stream",
     "text": [
      "We need to find some users!\n"
     ]
    }
   ],
   "source": [
    "users.clear()\n",
    "    \n",
    "if users:\n",
    "    for user in users:\n",
    "        if user == 'admin':\n",
    "            print(\"Hello admin, would you like to see a status report?\")\n",
    "        else:\n",
    "            print(\"Hello \" + user + \", thank you for logging in again.\")\n",
    "else:\n",
    "    print(\"We need to find some users!\")\n",
    "    "
   ]
  },
  {
   "cell_type": "markdown",
   "id": "375af5c4-bb6b-41d6-9692-8d5e88295118",
   "metadata": {},
   "source": [
    "### **5.10** Checking Usernames"
   ]
  },
  {
   "cell_type": "code",
   "execution_count": 41,
   "id": "bfff843c-380c-4fe0-9460-abfdbec38088",
   "metadata": {},
   "outputs": [
    {
     "name": "stdout",
     "output_type": "stream",
     "text": [
      "Username Admin is taken. Please choose a different username.\n",
      "Username GUEST is taken. Please choose a different username.\n",
      "Username alice is available.\n",
      "Username bob is available.\n",
      "Username karen is available.\n"
     ]
    }
   ],
   "source": [
    "current_users = ['Admin', 'guest', 'gerry', 'myla', 'carol']\n",
    "new_users = ['Admin', 'GUEST', 'alice', 'bob', 'karen']\n",
    "\n",
    "for user in new_users:\n",
    "    if user in current_users or user.lower() in current_users or user.upper() in current_users or user.title() in current_users:\n",
    "        print(\"Username \" + user + \" is taken. Please choose a different username.\")\n",
    "    else:\n",
    "        print(\"Username \" + user + \" is available.\")\n",
    "\n"
   ]
  },
  {
   "cell_type": "code",
   "execution_count": null,
   "id": "8568ba59-1f6b-4c6b-abe1-cd30a78f5d43",
   "metadata": {},
   "outputs": [],
   "source": []
  }
 ],
 "metadata": {
  "kernelspec": {
   "display_name": "Python 3 (ipykernel)",
   "language": "python",
   "name": "python3"
  },
  "language_info": {
   "codemirror_mode": {
    "name": "ipython",
    "version": 3
   },
   "file_extension": ".py",
   "mimetype": "text/x-python",
   "name": "python",
   "nbconvert_exporter": "python",
   "pygments_lexer": "ipython3",
   "version": "3.11.0"
  }
 },
 "nbformat": 4,
 "nbformat_minor": 5
}
