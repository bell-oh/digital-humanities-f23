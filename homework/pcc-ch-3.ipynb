{
 "cells": [
  {
   "cell_type": "markdown",
   "id": "56c30964-cdbc-4162-9725-f3467cdc4590",
   "metadata": {},
   "source": [
    "#### Python Crash Course"
   ]
  },
  {
   "cell_type": "markdown",
   "id": "18f5994e-ac1a-4626-8bab-fd91bf84674f",
   "metadata": {},
   "source": [
    "## Chapter 3"
   ]
  },
  {
   "cell_type": "code",
   "execution_count": 1,
   "id": "5ac45229-d7bf-4f23-b3ed-4b91c1b113cd",
   "metadata": {},
   "outputs": [],
   "source": [
    "# September 2023"
   ]
  },
  {
   "cell_type": "markdown",
   "id": "cc642c75-927e-4e1e-a4ab-ec4c55ccb70c",
   "metadata": {},
   "source": [
    "## **3-1** Names"
   ]
  },
  {
   "cell_type": "code",
   "execution_count": 2,
   "id": "6f6b6a6e-46c4-4b0d-b8df-a99106352af8",
   "metadata": {},
   "outputs": [
    {
     "name": "stdout",
     "output_type": "stream",
     "text": [
      "Maya\n",
      "Nate\n",
      "Violet\n",
      "Emma\n",
      "Liz\n"
     ]
    }
   ],
   "source": [
    "names = [ \"Maya\", \"Nate\", \"Violet\", \"Emma\", \"Liz\" ]\n",
    "print(names[0])\n",
    "print(names[1])\n",
    "print(names[2])\n",
    "print(names[3])\n",
    "print(names[4])"
   ]
  },
  {
   "cell_type": "markdown",
   "id": "f0cd2989-a0b0-4c80-a16a-45007a1528fe",
   "metadata": {},
   "source": [
    "## **3-2** Greetings"
   ]
  },
  {
   "cell_type": "code",
   "execution_count": 3,
   "id": "7a3f9a48-2fda-466c-a070-6834a192a6e1",
   "metadata": {},
   "outputs": [
    {
     "name": "stdout",
     "output_type": "stream",
     "text": [
      "Hi Maya, what's up?\n",
      "Hi Nate, what's up?\n",
      "Hi Violet, what's up?\n",
      "Hi Emma, what's up?\n",
      "Hi Liz, what's up?\n"
     ]
    }
   ],
   "source": [
    "print(\"Hi \" + names[0] + \", what's up?\")\n",
    "print(\"Hi \" + names[1] + \", what's up?\")\n",
    "print(\"Hi \" + names[2] + \", what's up?\")\n",
    "print(\"Hi \" + names[3] + \", what's up?\")\n",
    "print(\"Hi \" + names[4] + \", what's up?\")"
   ]
  },
  {
   "cell_type": "markdown",
   "id": "0d354fd8-665f-4300-86a9-8ae906526919",
   "metadata": {},
   "source": [
    "## **3-3** Your Own List"
   ]
  },
  {
   "cell_type": "code",
   "execution_count": 4,
   "id": "7d7f4b83-15db-438a-9bd6-5c22efb19ddd",
   "metadata": {},
   "outputs": [
    {
     "name": "stdout",
     "output_type": "stream",
     "text": [
      "My favorite train line is the Red Line.\n",
      "I never really ride the Blue Line.\n",
      "The Green Line is a light rail system.\n"
     ]
    }
   ],
   "source": [
    "trains = [ \"Red Line\", \"Green Line\", \"Blue Line\" ]\n",
    "print(\"My favorite train line is the \" + trains[0] + \".\")\n",
    "print(\"I never really ride the \" + trains[2] + \".\")\n",
    "print(\"The \" + trains[1] + \" is a light rail system.\")"
   ]
  },
  {
   "cell_type": "markdown",
   "id": "019894da-386a-4e72-ae19-3a8a5a4b3609",
   "metadata": {},
   "source": [
    "## **3-4** Guest List"
   ]
  },
  {
   "cell_type": "code",
   "execution_count": 5,
   "id": "21dd2995-94dd-4bea-ac30-f949244ee27c",
   "metadata": {
    "scrolled": true
   },
   "outputs": [
    {
     "name": "stdout",
     "output_type": "stream",
     "text": [
      "Dear Phoebe Bridgers,\n",
      "\tPlease come to my dinner!\n",
      "Dear Lucy Dacus,\n",
      "\tPlease come to my dinner!\n",
      "Dear Julien Baker,\n",
      "\tPlease come to my dinner!\n"
     ]
    }
   ],
   "source": [
    "guests = [ \"Phoebe Bridgers\", \"Lucy Dacus\", \"Julien Baker\" ]\n",
    "print(\"Dear \" + guests[0] + \",\\n\" + \"\\tPlease come to my dinner!\")\n",
    "print(\"Dear \" + guests[1] + \",\\n\" + \"\\tPlease come to my dinner!\")\n",
    "print(\"Dear \" + guests[2] + \",\\n\" + \"\\tPlease come to my dinner!\")"
   ]
  },
  {
   "cell_type": "markdown",
   "id": "48e74e75-d713-4f0c-a20a-bdb9f2830b19",
   "metadata": {},
   "source": [
    "## **3-5** Changing Guest List"
   ]
  },
  {
   "cell_type": "code",
   "execution_count": 6,
   "id": "cb01a84a-2ca9-4d40-b820-9c3e35e078e6",
   "metadata": {
    "scrolled": true
   },
   "outputs": [
    {
     "name": "stdout",
     "output_type": "stream",
     "text": [
      "Oh no! Julien Baker can't make it to the dinner.\n",
      "Dear Phoebe Bridgers,\n",
      "\tPlease come to my dinner!\n",
      "Dear Lucy Dacus,\n",
      "\tPlease come to my dinner!\n",
      "Dear Mitski,\n",
      "\tPlease come to my dinner!\n"
     ]
    }
   ],
   "source": [
    "print(\"Oh no! \" + guests[2] + \" can't make it to the dinner.\")\n",
    "guests[2] = \"Mitski\"\n",
    "print(\"Dear \" + guests[0] + \",\\n\" + \"\\tPlease come to my dinner!\")\n",
    "print(\"Dear \" + guests[1] + \",\\n\" + \"\\tPlease come to my dinner!\")\n",
    "print(\"Dear \" + guests[2] + \",\\n\" + \"\\tPlease come to my dinner!\")"
   ]
  },
  {
   "cell_type": "markdown",
   "id": "0d00d477-973e-43c2-9c63-409954302307",
   "metadata": {},
   "source": [
    "## **3-6** More Guests"
   ]
  },
  {
   "cell_type": "code",
   "execution_count": 7,
   "id": "c504ea00-2b5f-4664-804e-d4d6e221aceb",
   "metadata": {},
   "outputs": [
    {
     "name": "stdout",
     "output_type": "stream",
     "text": [
      "We found a bigger table!\n",
      "Dear Phoebe Bridgers,\n",
      "\tPlease come to my dinner! I found a bigger table.\n",
      "Dear Lucy Dacus,\n",
      "\tPlease come to my dinner! I found a bigger table.\n",
      "Dear Mitski,\n",
      "\tPlease come to my dinner! I found a bigger table.\n",
      "['Ethel Cain', 'Maggie Rogers', 'Phoebe Bridgers', 'Lucy Dacus', 'Mitski', 'Taylor Swift']\n",
      "Dear Ethel Cain,\n",
      "\tPlease come to my dinner! I found a bigger table.\n",
      "Dear Maggie Rogers,\n",
      "\tPlease come to my dinner! I found a bigger table.\n",
      "Dear Phoebe Bridgers,\n",
      "\tPlease come to my dinner! I found a bigger table.\n",
      "Dear Lucy Dacus,\n",
      "\tPlease come to my dinner! I found a bigger table.\n",
      "Dear Mitski,\n",
      "\tPlease come to my dinner! I found a bigger table.\n",
      "Dear Taylor Swift,\n",
      "\tPlease come to my dinner! I found a bigger table.\n"
     ]
    }
   ],
   "source": [
    "# print(guests)\n",
    "print(\"We found a bigger table!\")\n",
    "print(\"Dear \" + guests[0] + \",\\n\" + \"\\tPlease come to my dinner! I found a bigger table.\")\n",
    "print(\"Dear \" + guests[1] + \",\\n\" + \"\\tPlease come to my dinner! I found a bigger table.\")\n",
    "print(\"Dear \" + guests[2] + \",\\n\" + \"\\tPlease come to my dinner! I found a bigger table.\")\n",
    "# print(guests)\n",
    "guests.insert(0, \"Ethel Cain\")\n",
    "guests.insert(1, \"Maggie Rogers\")\n",
    "guests.append(\"Taylor Swift\")\n",
    "print(guests)\n",
    "print(\"Dear \" + guests[0] + \",\\n\" + \"\\tPlease come to my dinner! I found a bigger table.\")\n",
    "print(\"Dear \" + guests[1] + \",\\n\" + \"\\tPlease come to my dinner! I found a bigger table.\")\n",
    "print(\"Dear \" + guests[2] + \",\\n\" + \"\\tPlease come to my dinner! I found a bigger table.\")\n",
    "print(\"Dear \" + guests[3] + \",\\n\" + \"\\tPlease come to my dinner! I found a bigger table.\")\n",
    "print(\"Dear \" + guests[4] + \",\\n\" + \"\\tPlease come to my dinner! I found a bigger table.\")\n",
    "print(\"Dear \" + guests[5] + \",\\n\" + \"\\tPlease come to my dinner! I found a bigger table.\")"
   ]
  },
  {
   "cell_type": "markdown",
   "id": "1c2052d0-9837-4b94-af0c-a4c886480561",
   "metadata": {},
   "source": [
    "## **3-7** Shrinking Guest List"
   ]
  },
  {
   "cell_type": "code",
   "execution_count": 8,
   "id": "bcbec282-58cc-49bb-a020-95dca0821c67",
   "metadata": {},
   "outputs": [
    {
     "name": "stdout",
     "output_type": "stream",
     "text": [
      "Oh no...I can only invite two people for dinner!\n",
      "Taylor Swift, unfortunately I cannot invite you to dinner.\n",
      "Mitski, unfortunately I cannot invite you to dinner.\n",
      "Lucy Dacus, unfortunately I cannot invite you to dinner.\n",
      "Phoebe Bridgers, unfortunately I cannot invite you to dinner.\n",
      "Ethel Cain, I can invite you to dinner!\n",
      "Maggie Rogers, I can invite you to dinner!\n"
     ]
    }
   ],
   "source": [
    "print(\"Oh no...I can only invite two people for dinner!\")\n",
    "# print(guests)\n",
    "popped = guests.pop()\n",
    "print(popped + \", unfortunately I cannot invite you to dinner.\")\n",
    "popped = guests.pop()\n",
    "print(popped + \", unfortunately I cannot invite you to dinner.\")\n",
    "popped = guests.pop()\n",
    "print(popped + \", unfortunately I cannot invite you to dinner.\")\n",
    "popped = guests.pop()\n",
    "print(popped + \", unfortunately I cannot invite you to dinner.\")\n",
    "print(guests[0] + \", I can invite you to dinner!\")\n",
    "print(guests[1] + \", I can invite you to dinner!\")\n",
    "del guests[0]\n",
    "del guests[0]"
   ]
  },
  {
   "cell_type": "markdown",
   "id": "4f8afc68-1af0-45b6-b5ba-c160a5a114d5",
   "metadata": {},
   "source": [
    "## **3-8** Seeing the World"
   ]
  },
  {
   "cell_type": "code",
   "execution_count": 21,
   "id": "8fef250f-b1a9-4252-b044-b70cb17a184a",
   "metadata": {},
   "outputs": [
    {
     "name": "stdout",
     "output_type": "stream",
     "text": [
      "Original\n",
      "['Italy', 'Galapagos', 'Sweden', 'Iceland', 'Taiwan']\n",
      "Print Alphabetically\n",
      "['Galapagos', 'Iceland', 'Italy', 'Sweden', 'Taiwan']\n",
      "['Italy', 'Galapagos', 'Sweden', 'Iceland', 'Taiwan']\n",
      "Reverse Order\n",
      "['Taiwan', 'Iceland', 'Sweden', 'Galapagos', 'Italy']\n",
      "Revert to Original Order\n",
      "['Italy', 'Galapagos', 'Sweden', 'Iceland', 'Taiwan']\n",
      "Sort Alphabetically\n",
      "['Galapagos', 'Iceland', 'Italy', 'Sweden', 'Taiwan']\n",
      "Sort Alphabetically Reverse\n",
      "['Taiwan', 'Sweden', 'Italy', 'Iceland', 'Galapagos']\n"
     ]
    }
   ],
   "source": [
    "destinations = [\"Italy\", \"Galapagos\", \"Sweden\", \"Iceland\", \"Taiwan\"]\n",
    "print(\"Original\"); print(destinations)\n",
    "print (\"Print Alphabetically\"); print(sorted(destinations)) ## Does not change actual order of list\n",
    "print(destinations)\n",
    "print(\"Reverse Order\"); destinations.reverse() ## Does change order of list\n",
    "print(destinations)\n",
    "print(\"Revert to Original Order\"); destinations.reverse() ## Reverts to original order\n",
    "print(destinations)\n",
    "print(\"Sort Alphabetically\"); destinations.sort() ## Changes order\n",
    "print(destinations)\n",
    "print(\"Sort Alphabetically Reverse\"); destinations.sort(); destinations.reverse()\n",
    "print(destinations)"
   ]
  },
  {
   "cell_type": "code",
   "execution_count": null,
   "id": "ec477bbd-28d3-45ea-a3cb-7d78741defc9",
   "metadata": {},
   "outputs": [],
   "source": []
  }
 ],
 "metadata": {
  "kernelspec": {
   "display_name": "Python 3 (ipykernel)",
   "language": "python",
   "name": "python3"
  },
  "language_info": {
   "codemirror_mode": {
    "name": "ipython",
    "version": 3
   },
   "file_extension": ".py",
   "mimetype": "text/x-python",
   "name": "python",
   "nbconvert_exporter": "python",
   "pygments_lexer": "ipython3",
   "version": "3.11.0"
  }
 },
 "nbformat": 4,
 "nbformat_minor": 5
}
