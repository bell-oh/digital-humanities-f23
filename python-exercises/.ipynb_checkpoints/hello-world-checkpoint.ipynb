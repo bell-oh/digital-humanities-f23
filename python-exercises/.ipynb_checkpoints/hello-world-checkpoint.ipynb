{
 "cells": [
  {
   "cell_type": "markdown",
   "id": "6f177e4a-52bd-406a-941b-1bcf85c56b90",
   "metadata": {},
   "source": [
    "### Hello World"
   ]
  },
  {
   "cell_type": "code",
   "execution_count": 1,
   "id": "f2ac46df-2aea-4262-aedc-7b7d2e76d4de",
   "metadata": {},
   "outputs": [],
   "source": [
    "greeting = \"Hello world\""
   ]
  },
  {
   "cell_type": "code",
   "execution_count": 2,
   "id": "ae443d24-b358-4019-9ded-195b3264b87d",
   "metadata": {},
   "outputs": [
    {
     "name": "stdout",
     "output_type": "stream",
     "text": [
      "Hello world\n"
     ]
    }
   ],
   "source": [
    "print(greeting)"
   ]
  },
  {
   "cell_type": "markdown",
   "id": "79ab2ec6-6873-4397-bae6-c2bf5b39f0c8",
   "metadata": {},
   "source": [
    "### Strings"
   ]
  },
  {
   "cell_type": "markdown",
   "id": "9a72f61f-5d8d-41f0-98f9-1b139ff936e3",
   "metadata": {},
   "source": [
    "Don't need to declare type in initialization:"
   ]
  },
  {
   "cell_type": "code",
   "execution_count": 3,
   "id": "81e95438-ab17-41c7-bac0-a3bc5a980b57",
   "metadata": {},
   "outputs": [],
   "source": [
    "string_x = \"This is a string with an x in it\""
   ]
  },
  {
   "cell_type": "markdown",
   "id": "0e9c6343-2918-4dce-bc37-44d38c3f9e4f",
   "metadata": {},
   "source": [
    "`.find(x)` will return the index of `x` in the string"
   ]
  },
  {
   "cell_type": "code",
   "execution_count": 4,
   "id": "33384d84-7a10-4d63-b5f2-bce82693a166",
   "metadata": {},
   "outputs": [
    {
     "name": "stdout",
     "output_type": "stream",
     "text": [
      "25\n"
     ]
    }
   ],
   "source": [
    "print(string_x.find(\"x\"))"
   ]
  },
  {
   "cell_type": "markdown",
   "id": "78a77096-4573-4d07-a6dd-de78a177e155",
   "metadata": {},
   "source": [
    "### Lists"
   ]
  },
  {
   "cell_type": "code",
   "execution_count": null,
   "id": "454eec5d-360f-4968-ab51-3ff549249641",
   "metadata": {},
   "outputs": [],
   "source": [
    "subjects = ['classics', 'history', 'literature']"
   ]
  }
 ],
 "metadata": {
  "kernelspec": {
   "display_name": "Python 3 (ipykernel)",
   "language": "python",
   "name": "python3"
  },
  "language_info": {
   "codemirror_mode": {
    "name": "ipython",
    "version": 3
   },
   "file_extension": ".py",
   "mimetype": "text/x-python",
   "name": "python",
   "nbconvert_exporter": "python",
   "pygments_lexer": "ipython3",
   "version": "3.11.0"
  }
 },
 "nbformat": 4,
 "nbformat_minor": 5
}
