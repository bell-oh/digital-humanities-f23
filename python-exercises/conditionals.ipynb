{
 "cells": [
  {
   "cell_type": "code",
   "execution_count": 1,
   "id": "f2313d78-46cc-44d6-aea3-eaf6fafd1ccb",
   "metadata": {},
   "outputs": [
    {
     "name": "stdout",
     "output_type": "stream",
     "text": [
      "['a', 'b', 'c']\n",
      "2\n"
     ]
    }
   ],
   "source": [
    "list_of_lists = [[\"a\", \"b\", \"c\"], [1, 2, 3]]\n",
    "len(list_of_lists)\n",
    "print(list_of_lists[0])\n",
    "print(list_of_lists[1][1])"
   ]
  },
  {
   "cell_type": "code",
   "execution_count": null,
   "id": "4e48d387-eed9-48cf-958a-b4940cbf5f3e",
   "metadata": {},
   "outputs": [],
   "source": []
  }
 ],
 "metadata": {
  "kernelspec": {
   "display_name": "Python 3 (ipykernel)",
   "language": "python",
   "name": "python3"
  },
  "language_info": {
   "codemirror_mode": {
    "name": "ipython",
    "version": 3
   },
   "file_extension": ".py",
   "mimetype": "text/x-python",
   "name": "python",
   "nbconvert_exporter": "python",
   "pygments_lexer": "ipython3",
   "version": "3.11.0"
  }
 },
 "nbformat": 4,
 "nbformat_minor": 5
}
