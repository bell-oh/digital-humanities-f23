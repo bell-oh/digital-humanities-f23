{
 "cells": [
  {
   "cell_type": "markdown",
   "metadata": {},
   "source": [
    "# Functions Challenge\n",
    "## Directions\n",
    "\n",
    "Building off of the dictionaries challenge, create a function that takes a Pleiades url as input and returns a dictionary with two pieces of information: \"location_id\" and \"coordinates.\" For example, given the url `https://pleiades.stoa.org/places/423025/json` return the dictionary:\n",
    "`{'location_id': '423025', 'coordinates': [12.486137, 41.891775]}`\n",
    "\n",
    "Then, use a for loop to apply your function to the list of urls below building a new list of the returned dictionaries called `coordinates_list`. Your final result should look like this:\n",
    "\n",
    "`[{'location_id': '423025', 'coordinates': [12.486137, 41.891775]}, {'location_id': '550595', 'coordinates': [26.238889, 39.9575]}, {'location_id': '314921', 'coordinates': [10.312944, 36.847009]}, {'location_id': '60406/', 'coordinates': [71.06148, 29.2389543]}, {'location_id': '79574/', 'coordinates': [-0.088949, 51.513335]}]`\n",
    "\n",
    "Hint: The location id can be found in the url, you will need to isolate it somehow.\n",
    "\n",
    "Bonus task: Find the location name and include it in your dictionary.\n",
    "\n"
   ]
  },
  {
   "cell_type": "markdown",
   "metadata": {},
   "source": [
    "## Solution"
   ]
  },
  {
   "cell_type": "code",
   "execution_count": 1,
   "metadata": {},
   "outputs": [],
   "source": [
    "import requests\n",
    "import json"
   ]
  },
  {
   "cell_type": "code",
   "execution_count": 2,
   "metadata": {},
   "outputs": [
    {
     "data": {
      "text/plain": [
       "'\\nurl = \"https://pleiades.stoa.org/places/423025/json\"  # set your url\\nresponse = requests.get(url)  # use requests.get() to get a response object\\ntext = response.text  # extract the text from the response object using the text attribute\\n'"
      ]
     },
     "execution_count": 2,
     "metadata": {},
     "output_type": "execute_result"
    }
   ],
   "source": [
    "# How to use requests\n",
    "'''\n",
    "url = \"https://pleiades.stoa.org/places/423025/json\"  # set your url\n",
    "response = requests.get(url)  # use requests.get() to get a response object\n",
    "text = response.text  # extract the text from the response object using the text attribute\n",
    "'''"
   ]
  },
  {
   "cell_type": "code",
   "execution_count": 3,
   "metadata": {},
   "outputs": [
    {
     "data": {
      "text/plain": [
       "'\\ndata = json.loads(text)  # json.loads will convert the string to a dictionary. The \"s\" on the end of \"loads\" indicates a string\\n'"
      ]
     },
     "execution_count": 3,
     "metadata": {},
     "output_type": "execute_result"
    }
   ],
   "source": [
    "# The data you get from the pleiades url will techincally be a string even though it looks like a dictionary.\n",
    "# You can use the json library to convert the string to a dictionary\n",
    "'''\n",
    "data = json.loads(text)  # json.loads will convert the string to a dictionary. The \"s\" on the end of \"loads\" indicates a string\n",
    "'''"
   ]
  },
  {
   "cell_type": "code",
   "execution_count": 4,
   "metadata": {},
   "outputs": [],
   "source": [
    "urls = [\n",
    "    'https://pleiades.stoa.org/places/423025/json',\n",
    "    'https://pleiades.stoa.org/places/550595/json',\n",
    "    'https://pleiades.stoa.org/places/314921/json',\n",
    "    'https://pleiades.stoa.org/places/60406/json',\n",
    "    'https://pleiades.stoa.org/places/79574/json',\n",
    "]"
   ]
  },
  {
   "cell_type": "code",
   "execution_count": null,
   "metadata": {},
   "outputs": [],
   "source": []
  },
  {
   "cell_type": "code",
   "execution_count": 5,
   "metadata": {},
   "outputs": [
    {
     "name": "stdout",
     "output_type": "stream",
     "text": [
      "Returning dictionary: {'location_id': '423025', 'coordinates': [12.486137, 41.891775]}\n",
      "Returning dictionary: {'location_id': '550595', 'coordinates': [26.238889, 39.9575]}\n",
      "Returning dictionary: {'location_id': '314921', 'coordinates': [10.323056, 36.853056]}\n",
      "Returning dictionary: {'location_id': '60406', 'coordinates': [71.06148, 29.2389543]}\n",
      "Returning dictionary: {'location_id': '79574', 'coordinates': [-0.088949, 51.513335]}\n",
      "\n",
      "Final list: [{'location_id': '423025', 'coordinates': [12.486137, 41.891775]}, {'location_id': '550595', 'coordinates': [26.238889, 39.9575]}, {'location_id': '314921', 'coordinates': [10.323056, 36.853056]}, {'location_id': '60406', 'coordinates': [71.06148, 29.2389543]}, {'location_id': '79574', 'coordinates': [-0.088949, 51.513335]}]\n"
     ]
    }
   ],
   "source": [
    "def get_data(url):\n",
    "    response = requests.get(url)  # use requests.get() to get a response object\n",
    "    text = response.text  # extract the text from the response object using the text attribute\n",
    "    data = json.loads(text)  # json.loads will convert the string to a dictionary. The \"s\" on the end of \"loads\" indicates a string\n",
    "\n",
    "    return data\n",
    "    \n",
    "\n",
    "def get_coordinates(url):\n",
    "\n",
    "    data = get_data(url)\n",
    "    \n",
    "    \"\"\"split url on backslash\"\"\"\n",
    "    loc_id = url.split('/')[4]\n",
    "    coords = data['features'][0]['geometry']['coordinates']\n",
    "    \n",
    "    coords_dict = {\n",
    "        'location_id': loc_id,\n",
    "        'coordinates': coords,\n",
    "    }\n",
    "\n",
    "    print(f\"Returning dictionary: {coords_dict}\")\n",
    "    \n",
    "    return(coords_dict)\n",
    "\n",
    "\n",
    "coordinates_list = []\n",
    "\n",
    "for url in urls:\n",
    "    new_coordinates = get_coordinates(url)\n",
    "    coordinates_list.append(new_coordinates)\n",
    "\n",
    "print(f\"\\nFinal list: {coordinates_list}\")\n"
   ]
  },
  {
   "cell_type": "code",
   "execution_count": null,
   "metadata": {},
   "outputs": [],
   "source": []
  }
 ],
 "metadata": {
  "kernelspec": {
   "display_name": "Python 3 (ipykernel)",
   "language": "python",
   "name": "python3"
  },
  "language_info": {
   "codemirror_mode": {
    "name": "ipython",
    "version": 3
   },
   "file_extension": ".py",
   "mimetype": "text/x-python",
   "name": "python",
   "nbconvert_exporter": "python",
   "pygments_lexer": "ipython3",
   "version": "3.11.0"
  }
 },
 "nbformat": 4,
 "nbformat_minor": 4
}
